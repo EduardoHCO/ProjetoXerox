{
  "nbformat": 4,
  "nbformat_minor": 0,
  "metadata": {
    "colab": {
      "name": "titanic.ipynb",
      "provenance": [],
      "collapsed_sections": [
        "_Mtfe6k3do2Y"
      ],
      "toc_visible": true,
      "authorship_tag": "ABX9TyOHcGk94LNGIhgQ2aY+kSbT",
      "include_colab_link": true
    },
    "kernelspec": {
      "name": "python3",
      "display_name": "Python 3"
    }
  },
  "cells": [
    {
      "cell_type": "markdown",
      "metadata": {
        "id": "view-in-github",
        "colab_type": "text"
      },
      "source": [
        "<a href=\"https://colab.research.google.com/github/EduardoHCO/ProjetoXerox/blob/master/titanic.ipynb\" target=\"_parent\"><img src=\"https://colab.research.google.com/assets/colab-badge.svg\" alt=\"Open In Colab\"/></a>"
      ]
    },
    {
      "cell_type": "markdown",
      "metadata": {
        "id": "_Mtfe6k3do2Y",
        "colab_type": "text"
      },
      "source": [
        "##**Importação da biblioteca**"
      ]
    },
    {
      "cell_type": "code",
      "metadata": {
        "id": "8G9AQVkkdHaj",
        "colab_type": "code",
        "colab": {}
      },
      "source": [
        "import pandas as pd"
      ],
      "execution_count": null,
      "outputs": []
    },
    {
      "cell_type": "markdown",
      "metadata": {
        "id": "29XKHFiEd9c0",
        "colab_type": "text"
      },
      "source": [
        "##**Importação dos dados**"
      ]
    },
    {
      "cell_type": "code",
      "metadata": {
        "id": "g3sv2Szqh3Vh",
        "colab_type": "code",
        "colab": {
          "base_uri": "https://localhost:8080/",
          "height": 54
        },
        "outputId": "745d3b36-b574-4f7d-8478-258343d91ddd"
      },
      "source": [
        "from google.colab import drive\n",
        "drive.mount('/content/drive')"
      ],
      "execution_count": 20,
      "outputs": [
        {
          "output_type": "stream",
          "text": [
            "Drive already mounted at /content/drive; to attempt to forcibly remount, call drive.mount(\"/content/drive\", force_remount=True).\n"
          ],
          "name": "stdout"
        }
      ]
    },
    {
      "cell_type": "code",
      "metadata": {
        "id": "gDC0s10VeA4U",
        "colab_type": "code",
        "colab": {}
      },
      "source": [
        "titanic_dataset = pd.read_csv('/content/drive/My Drive/titanic/train.csv')\n",
        "titanic_dataset"
      ],
      "execution_count": null,
      "outputs": []
    },
    {
      "cell_type": "markdown",
      "metadata": {
        "id": "lC8lMJ1Mh-DE",
        "colab_type": "text"
      },
      "source": [
        "##**Informações**"
      ]
    },
    {
      "cell_type": "code",
      "metadata": {
        "id": "b8Vjza4yez__",
        "colab_type": "code",
        "colab": {}
      },
      "source": [
        "titanic_dataset.info()"
      ],
      "execution_count": null,
      "outputs": []
    },
    {
      "cell_type": "markdown",
      "metadata": {
        "id": "X9LUGiAkkOCX",
        "colab_type": "text"
      },
      "source": [
        "\n",
        "\n",
        "*   **Idade** possui 177 campos sem preenchimento\n",
        "*   Das 891 pessoas 687 pessoas não estavam em **cabines**\n",
        "*   2 pessoas sem local de **embarcação**\n",
        "\n",
        "\n",
        "\n",
        "\n",
        "\n",
        "\n",
        "\n",
        "\n",
        "\n"
      ]
    },
    {
      "cell_type": "code",
      "metadata": {
        "id": "RWmpcNEIiMim",
        "colab_type": "code",
        "colab": {}
      },
      "source": [
        "titanic_dataset.describe()"
      ],
      "execution_count": null,
      "outputs": []
    },
    {
      "cell_type": "markdown",
      "metadata": {
        "id": "x6fr03tWlr5e",
        "colab_type": "text"
      },
      "source": [
        "\n",
        "\n",
        "*   Média de idade dos tripulantes é de 30 anos\n",
        "*   Sendo o desvio padrão de 14 anos, portanto entre 15 a 45 anos eram a maior parte dos tribulantes\n",
        "\n"
      ]
    },
    {
      "cell_type": "code",
      "metadata": {
        "id": "5srgENjQJ777",
        "colab_type": "code",
        "colab": {}
      },
      "source": [
        "plot_age_survived = pd.crosstab(titanic_dataset[\"Age\"], titanic_dataset[\"Survived\"])\n",
        "plot_age_survived.plot(figsize=(16,9))"
      ],
      "execution_count": null,
      "outputs": []
    },
    {
      "cell_type": "markdown",
      "metadata": {
        "id": "XOmupqm3KKw-",
        "colab_type": "text"
      },
      "source": [
        "\n",
        "\n",
        "*   Neste plot é perceptível ver se a idade x teve mais mortos ou sobreviventes\n"
      ]
    },
    {
      "cell_type": "code",
      "metadata": {
        "id": "L4ThN-fgAQEW",
        "colab_type": "code",
        "colab": {}
      },
      "source": [
        "titanic_dataset[\"Age\"].hist()"
      ],
      "execution_count": null,
      "outputs": []
    },
    {
      "cell_type": "code",
      "metadata": {
        "id": "fpY1-p8onkXh",
        "colab_type": "code",
        "colab": {}
      },
      "source": [
        "titanic_dataset[\"Sex\"].hist()\n"
      ],
      "execution_count": null,
      "outputs": []
    },
    {
      "cell_type": "code",
      "metadata": {
        "id": "CEkjRzG9o27m",
        "colab_type": "code",
        "colab": {}
      },
      "source": [
        "homens = len(titanic_dataset[titanic_dataset[\"Sex\"] == 'male'])\n",
        "mulheres = len(titanic_dataset[titanic_dataset[\"Sex\"] == 'female'])\n",
        "homens, mulheres"
      ],
      "execution_count": null,
      "outputs": []
    },
    {
      "cell_type": "markdown",
      "metadata": {
        "id": "QvGoLymno9lD",
        "colab_type": "text"
      },
      "source": [
        "\n",
        "\n",
        "*   577 dos 891 tripulantes eram do **sexo masculino**\n",
        "*   314 dos 891 tripulantes eram do **sexo feminino**\n",
        "\n"
      ]
    },
    {
      "cell_type": "code",
      "metadata": {
        "id": "37OA6TVYpn_L",
        "colab_type": "code",
        "colab": {}
      },
      "source": [
        "sobreviventes = pd.crosstab(titanic_dataset[\"Survived\"], titanic_dataset[\"Sex\"])\n",
        "sobreviventes"
      ],
      "execution_count": null,
      "outputs": []
    },
    {
      "cell_type": "markdown",
      "metadata": {
        "id": "0S7SwvqMr2NW",
        "colab_type": "text"
      },
      "source": [
        "\n",
        "\n",
        "*   233 mulheres sobreviveram, 81 mulheres morreram\n",
        "*   109 homens sobreviveram, 468 homens morreram\n",
        "\n"
      ]
    },
    {
      "cell_type": "code",
      "metadata": {
        "id": "726FVxmpyzDb",
        "colab_type": "code",
        "colab": {}
      },
      "source": [
        "criancas = len(titanic_dataset[titanic_dataset['Age'] <= 12])\n",
        "adultos = len(titanic_dataset[(titanic_dataset['Age'] > 12) & (titanic_dataset['Age'] < 60)])\n",
        "idosos = len(titanic_dataset[titanic_dataset['Age'] >= 60])\n",
        "criancas, adultos, idosos"
      ],
      "execution_count": null,
      "outputs": []
    },
    {
      "cell_type": "markdown",
      "metadata": {
        "id": "SSSbzIyN7Hs-",
        "colab_type": "text"
      },
      "source": [
        "\n",
        "\n",
        "*   69 pessoas eram crianças\n",
        "*   619 pessoas eram adultos\n",
        "*   26 pessoas eram idosos\n",
        "\n"
      ]
    },
    {
      "cell_type": "code",
      "metadata": {
        "id": "MIqliGA93ovI",
        "colab_type": "code",
        "colab": {}
      },
      "source": [
        "titanic_dataset[\"Embarked\"].unique()\n",
        "\n",
        "embarked_c = len(titanic_dataset[titanic_dataset[\"Embarked\"] == \"C\"])\n",
        "embarked_s = len(titanic_dataset[titanic_dataset[\"Embarked\"] == \"S\"])\n",
        "embarked_q = len(titanic_dataset[titanic_dataset[\"Embarked\"] == \"Q\"])\n",
        "embarked_c, embarked_s, embarked_q"
      ],
      "execution_count": null,
      "outputs": []
    },
    {
      "cell_type": "markdown",
      "metadata": {
        "id": "NDWfjNQL6ujF",
        "colab_type": "text"
      },
      "source": [
        "\n",
        "\n",
        "*   168 pessoas embarcaram no endereço C\n",
        "*   644 pessoas embarcaram no endereço S\n",
        "*   77 pessoas embarcaram no endereço Q\n",
        "*   2 pessoas não tem identificação de local de embarque\n",
        "\n",
        "\n"
      ]
    },
    {
      "cell_type": "code",
      "metadata": {
        "id": "pbzjXxmJ7Eea",
        "colab_type": "code",
        "colab": {}
      },
      "source": [
        "parentesco =  len(titanic_dataset[titanic_dataset[\"Parch\"] == 1])\n",
        "parentesco"
      ],
      "execution_count": null,
      "outputs": []
    },
    {
      "cell_type": "markdown",
      "metadata": {
        "id": "IoDucLuO778G",
        "colab_type": "text"
      },
      "source": [
        "\n",
        "\n",
        "*   Das 891 pessoas 209 possuem parentescos na embarcação\n",
        "\n",
        "\n"
      ]
    },
    {
      "cell_type": "code",
      "metadata": {
        "id": "PaVv2jzp9BPg",
        "colab_type": "code",
        "colab": {}
      },
      "source": [
        "titanic_dataset[\"Pclass\"].unique()\n",
        "pessoas_class_1 = len(titanic_dataset[titanic_dataset['Pclass'] == 1])\n",
        "pessoas_class_2 = len(titanic_dataset[titanic_dataset['Pclass'] == 2])\n",
        "pessoas_class_3 = len(titanic_dataset[titanic_dataset['Pclass'] == 3])\n",
        "pessoas_class_1, pessoas_class_2, pessoas_class_3\n",
        "# total_p_class = pessoas_class_1+pessoas_class_2+pessoas_class_3\n",
        "# total_p_class"
      ],
      "execution_count": null,
      "outputs": []
    },
    {
      "cell_type": "code",
      "metadata": {
        "id": "jocKWhBE8Q87",
        "colab_type": "code",
        "colab": {}
      },
      "source": [
        "mortos_classe_1 = len(titanic_dataset[(titanic_dataset['Survived'] == 0) & (titanic_dataset['Pclass'] == 1)])\n",
        "mortos_classe_2 = len(titanic_dataset[(titanic_dataset['Survived'] == 0) & (titanic_dataset['Pclass'] == 2)])\n",
        "mortos_classe_3 = len(titanic_dataset[(titanic_dataset['Survived'] == 0) & (titanic_dataset['Pclass'] == 3)])\n",
        "porcentagem_mortos_classe_1 = ((mortos_classe_1 / pessoas_class_1) * 100)\n",
        "porcentagem_mortos_classe_2 = ((mortos_classe_2 / pessoas_class_2) * 100)\n",
        "porcentagem_mortos_classe_3 = ((mortos_classe_3 / pessoas_class_3) * 100)\n",
        "porcentagem_mortos_classe_1, porcentagem_mortos_classe_2, porcentagem_mortos_classe_3\n"
      ],
      "execution_count": null,
      "outputs": []
    },
    {
      "cell_type": "markdown",
      "metadata": {
        "id": "Nx1WU59j-n-q",
        "colab_type": "text"
      },
      "source": [
        "\n",
        "\n",
        "*   37% dos pessoas da classe 1 morreram\n",
        "*   53% dos pessoas da classe 2 morreram\n",
        "*   76% dos pessoas da classe 3 morreram\n",
        "\n"
      ]
    },
    {
      "cell_type": "code",
      "metadata": {
        "id": "PyHhegURATNM",
        "colab_type": "code",
        "colab": {}
      },
      "source": [
        "titanic_dataset[\"Fare\"].describe()"
      ],
      "execution_count": null,
      "outputs": []
    },
    {
      "cell_type": "markdown",
      "metadata": {
        "id": "-bGnVgsfFDQ7",
        "colab_type": "text"
      },
      "source": [
        "\n",
        "\n",
        "*   O ticket mais caro da embarcação foi de 512.329200\n",
        "\n"
      ]
    }
  ]
}